{
 "cells": [
  {
   "cell_type": "code",
   "execution_count": 1,
   "id": "b16eff01",
   "metadata": {},
   "outputs": [
    {
     "data": {
      "text/plain": [
       "['Requirement already satisfied: litellm in /Users/viraj-macbook/Documents/GitHub/Agentic-AI-course/.venv/lib/python3.13/site-packages (1.71.2)',\n",
       " 'Requirement already satisfied: aiohttp in /Users/viraj-macbook/Documents/GitHub/Agentic-AI-course/.venv/lib/python3.13/site-packages (from litellm) (3.12.4)',\n",
       " 'Requirement already satisfied: click in /Users/viraj-macbook/Documents/GitHub/Agentic-AI-course/.venv/lib/python3.13/site-packages (from litellm) (8.2.1)',\n",
       " 'Requirement already satisfied: httpx>=0.23.0 in /Users/viraj-macbook/Documents/GitHub/Agentic-AI-course/.venv/lib/python3.13/site-packages (from litellm) (0.28.1)',\n",
       " 'Requirement already satisfied: importlib-metadata>=6.8.0 in /Users/viraj-macbook/Documents/GitHub/Agentic-AI-course/.venv/lib/python3.13/site-packages (from litellm) (8.7.0)',\n",
       " 'Requirement already satisfied: jinja2<4.0.0,>=3.1.2 in /Users/viraj-macbook/Documents/GitHub/Agentic-AI-course/.venv/lib/python3.13/site-packages (from litellm) (3.1.6)',\n",
       " 'Requirement already satisfied: jsonschema<5.0.0,>=4.22.0 in /Users/viraj-macbook/Documents/GitHub/Agentic-AI-course/.venv/lib/python3.13/site-packages (from litellm) (4.24.0)',\n",
       " 'Requirement already satisfied: openai>=1.68.2 in /Users/viraj-macbook/Documents/GitHub/Agentic-AI-course/.venv/lib/python3.13/site-packages (from litellm) (1.82.1)',\n",
       " 'Requirement already satisfied: pydantic<3.0.0,>=2.0.0 in /Users/viraj-macbook/Documents/GitHub/Agentic-AI-course/.venv/lib/python3.13/site-packages (from litellm) (2.11.5)',\n",
       " 'Requirement already satisfied: python-dotenv>=0.2.0 in /Users/viraj-macbook/Documents/GitHub/Agentic-AI-course/.venv/lib/python3.13/site-packages (from litellm) (1.1.0)',\n",
       " 'Requirement already satisfied: tiktoken>=0.7.0 in /Users/viraj-macbook/Documents/GitHub/Agentic-AI-course/.venv/lib/python3.13/site-packages (from litellm) (0.9.0)',\n",
       " 'Requirement already satisfied: tokenizers in /Users/viraj-macbook/Documents/GitHub/Agentic-AI-course/.venv/lib/python3.13/site-packages (from litellm) (0.21.1)',\n",
       " 'Requirement already satisfied: MarkupSafe>=2.0 in /Users/viraj-macbook/Documents/GitHub/Agentic-AI-course/.venv/lib/python3.13/site-packages (from jinja2<4.0.0,>=3.1.2->litellm) (3.0.2)',\n",
       " 'Requirement already satisfied: attrs>=22.2.0 in /Users/viraj-macbook/Documents/GitHub/Agentic-AI-course/.venv/lib/python3.13/site-packages (from jsonschema<5.0.0,>=4.22.0->litellm) (25.3.0)',\n",
       " 'Requirement already satisfied: jsonschema-specifications>=2023.03.6 in /Users/viraj-macbook/Documents/GitHub/Agentic-AI-course/.venv/lib/python3.13/site-packages (from jsonschema<5.0.0,>=4.22.0->litellm) (2025.4.1)',\n",
       " 'Requirement already satisfied: referencing>=0.28.4 in /Users/viraj-macbook/Documents/GitHub/Agentic-AI-course/.venv/lib/python3.13/site-packages (from jsonschema<5.0.0,>=4.22.0->litellm) (0.36.2)',\n",
       " 'Requirement already satisfied: rpds-py>=0.7.1 in /Users/viraj-macbook/Documents/GitHub/Agentic-AI-course/.venv/lib/python3.13/site-packages (from jsonschema<5.0.0,>=4.22.0->litellm) (0.25.1)',\n",
       " 'Requirement already satisfied: annotated-types>=0.6.0 in /Users/viraj-macbook/Documents/GitHub/Agentic-AI-course/.venv/lib/python3.13/site-packages (from pydantic<3.0.0,>=2.0.0->litellm) (0.7.0)',\n",
       " 'Requirement already satisfied: pydantic-core==2.33.2 in /Users/viraj-macbook/Documents/GitHub/Agentic-AI-course/.venv/lib/python3.13/site-packages (from pydantic<3.0.0,>=2.0.0->litellm) (2.33.2)',\n",
       " 'Requirement already satisfied: typing-extensions>=4.12.2 in /Users/viraj-macbook/Documents/GitHub/Agentic-AI-course/.venv/lib/python3.13/site-packages (from pydantic<3.0.0,>=2.0.0->litellm) (4.13.2)',\n",
       " 'Requirement already satisfied: typing-inspection>=0.4.0 in /Users/viraj-macbook/Documents/GitHub/Agentic-AI-course/.venv/lib/python3.13/site-packages (from pydantic<3.0.0,>=2.0.0->litellm) (0.4.1)',\n",
       " 'Requirement already satisfied: anyio in /Users/viraj-macbook/Documents/GitHub/Agentic-AI-course/.venv/lib/python3.13/site-packages (from httpx>=0.23.0->litellm) (4.9.0)',\n",
       " 'Requirement already satisfied: certifi in /Users/viraj-macbook/Documents/GitHub/Agentic-AI-course/.venv/lib/python3.13/site-packages (from httpx>=0.23.0->litellm) (2025.4.26)',\n",
       " 'Requirement already satisfied: httpcore==1.* in /Users/viraj-macbook/Documents/GitHub/Agentic-AI-course/.venv/lib/python3.13/site-packages (from httpx>=0.23.0->litellm) (1.0.9)',\n",
       " 'Requirement already satisfied: idna in /Users/viraj-macbook/Documents/GitHub/Agentic-AI-course/.venv/lib/python3.13/site-packages (from httpx>=0.23.0->litellm) (3.10)',\n",
       " 'Requirement already satisfied: h11>=0.16 in /Users/viraj-macbook/Documents/GitHub/Agentic-AI-course/.venv/lib/python3.13/site-packages (from httpcore==1.*->httpx>=0.23.0->litellm) (0.16.0)',\n",
       " 'Requirement already satisfied: zipp>=3.20 in /Users/viraj-macbook/Documents/GitHub/Agentic-AI-course/.venv/lib/python3.13/site-packages (from importlib-metadata>=6.8.0->litellm) (3.22.0)',\n",
       " 'Requirement already satisfied: distro<2,>=1.7.0 in /Users/viraj-macbook/Documents/GitHub/Agentic-AI-course/.venv/lib/python3.13/site-packages (from openai>=1.68.2->litellm) (1.9.0)',\n",
       " 'Requirement already satisfied: jiter<1,>=0.4.0 in /Users/viraj-macbook/Documents/GitHub/Agentic-AI-course/.venv/lib/python3.13/site-packages (from openai>=1.68.2->litellm) (0.10.0)',\n",
       " 'Requirement already satisfied: sniffio in /Users/viraj-macbook/Documents/GitHub/Agentic-AI-course/.venv/lib/python3.13/site-packages (from openai>=1.68.2->litellm) (1.3.1)',\n",
       " 'Requirement already satisfied: tqdm>4 in /Users/viraj-macbook/Documents/GitHub/Agentic-AI-course/.venv/lib/python3.13/site-packages (from openai>=1.68.2->litellm) (4.67.1)',\n",
       " 'Requirement already satisfied: regex>=2022.1.18 in /Users/viraj-macbook/Documents/GitHub/Agentic-AI-course/.venv/lib/python3.13/site-packages (from tiktoken>=0.7.0->litellm) (2024.11.6)',\n",
       " 'Requirement already satisfied: requests>=2.26.0 in /Users/viraj-macbook/Documents/GitHub/Agentic-AI-course/.venv/lib/python3.13/site-packages (from tiktoken>=0.7.0->litellm) (2.32.3)',\n",
       " 'Requirement already satisfied: charset-normalizer<4,>=2 in /Users/viraj-macbook/Documents/GitHub/Agentic-AI-course/.venv/lib/python3.13/site-packages (from requests>=2.26.0->tiktoken>=0.7.0->litellm) (3.4.2)',\n",
       " 'Requirement already satisfied: urllib3<3,>=1.21.1 in /Users/viraj-macbook/Documents/GitHub/Agentic-AI-course/.venv/lib/python3.13/site-packages (from requests>=2.26.0->tiktoken>=0.7.0->litellm) (2.4.0)',\n",
       " 'Requirement already satisfied: aiohappyeyeballs>=2.5.0 in /Users/viraj-macbook/Documents/GitHub/Agentic-AI-course/.venv/lib/python3.13/site-packages (from aiohttp->litellm) (2.6.1)',\n",
       " 'Requirement already satisfied: aiosignal>=1.1.2 in /Users/viraj-macbook/Documents/GitHub/Agentic-AI-course/.venv/lib/python3.13/site-packages (from aiohttp->litellm) (1.3.2)',\n",
       " 'Requirement already satisfied: frozenlist>=1.1.1 in /Users/viraj-macbook/Documents/GitHub/Agentic-AI-course/.venv/lib/python3.13/site-packages (from aiohttp->litellm) (1.6.0)',\n",
       " 'Requirement already satisfied: multidict<7.0,>=4.5 in /Users/viraj-macbook/Documents/GitHub/Agentic-AI-course/.venv/lib/python3.13/site-packages (from aiohttp->litellm) (6.4.4)',\n",
       " 'Requirement already satisfied: propcache>=0.2.0 in /Users/viraj-macbook/Documents/GitHub/Agentic-AI-course/.venv/lib/python3.13/site-packages (from aiohttp->litellm) (0.3.1)',\n",
       " 'Requirement already satisfied: yarl<2.0,>=1.17.0 in /Users/viraj-macbook/Documents/GitHub/Agentic-AI-course/.venv/lib/python3.13/site-packages (from aiohttp->litellm) (1.20.0)',\n",
       " 'Requirement already satisfied: huggingface-hub<1.0,>=0.16.4 in /Users/viraj-macbook/Documents/GitHub/Agentic-AI-course/.venv/lib/python3.13/site-packages (from tokenizers->litellm) (0.32.2)',\n",
       " 'Requirement already satisfied: filelock in /Users/viraj-macbook/Documents/GitHub/Agentic-AI-course/.venv/lib/python3.13/site-packages (from huggingface-hub<1.0,>=0.16.4->tokenizers->litellm) (3.18.0)',\n",
       " 'Requirement already satisfied: fsspec>=2023.5.0 in /Users/viraj-macbook/Documents/GitHub/Agentic-AI-course/.venv/lib/python3.13/site-packages (from huggingface-hub<1.0,>=0.16.4->tokenizers->litellm) (2025.5.1)',\n",
       " 'Requirement already satisfied: packaging>=20.9 in /Users/viraj-macbook/Documents/GitHub/Agentic-AI-course/.venv/lib/python3.13/site-packages (from huggingface-hub<1.0,>=0.16.4->tokenizers->litellm) (25.0)',\n",
       " 'Requirement already satisfied: pyyaml>=5.1 in /Users/viraj-macbook/Documents/GitHub/Agentic-AI-course/.venv/lib/python3.13/site-packages (from huggingface-hub<1.0,>=0.16.4->tokenizers->litellm) (6.0.2)',\n",
       " 'Requirement already satisfied: hf-xet<2.0.0,>=1.1.2 in /Users/viraj-macbook/Documents/GitHub/Agentic-AI-course/.venv/lib/python3.13/site-packages (from huggingface-hub<1.0,>=0.16.4->tokenizers->litellm) (1.1.2)']"
      ]
     },
     "execution_count": 1,
     "metadata": {},
     "output_type": "execute_result"
    }
   ],
   "source": [
    "!!pip install litellm\n"
   ]
  },
  {
   "cell_type": "code",
   "execution_count": 1,
   "id": "4e86ad03",
   "metadata": {},
   "outputs": [],
   "source": [
    "# For local VSCODE and Jupyter ONLY:\n",
    "\n",
    "import os\n",
    "from litellm import completion\n",
    "from dotenv import load_dotenv\n",
    "from typing import List, Dict\n",
    "\n",
    "\n",
    "load_dotenv()\n",
    "\n",
    "HUGGINGFACE_API_KEY = os.getenv(\"HUGGINGFACE_API_KEY\")\n",
    "OLLAMA_API_KEY = os.getenv(\"OLLAMA_API_KEY\")\n",
    "GEMINI_API_KEY = os.getenv(\"GEMINI_API_KEY\")\n",
    "\n",
    "# print(HUGGINGFACE_API_KEY)\n",
    "# print(OLLAMA_API_KEY)\n",
    "# print(GEMINI_API_KEY)\n",
    "\n",
    "API_KEY = GEMINI_API_KEY # HUGGINGFACE_API_KEY OR OLLAMA_API_KEY # OR GEMINI_API_KEY"
   ]
  },
  {
   "cell_type": "code",
   "execution_count": null,
   "id": "95c3b182",
   "metadata": {},
   "outputs": [
    {
     "ename": "ModuleNotFoundError",
     "evalue": "No module named 'google'",
     "output_type": "error",
     "traceback": [
      "\u001b[31m---------------------------------------------------------------------------\u001b[39m\n",
      "\u001b[31mModuleNotFoundError\u001b[39m                       Traceback (most recent call last)\n",
      "\u001b[36mCell\u001b[39m\u001b[36m \u001b[39m\u001b[32mIn[18]\u001b[39m\u001b[32m, line 12\u001b[39m\n",
      "\u001b[32m      8\u001b[39m \u001b[38;5;28;01mfrom\u001b[39;00m\u001b[38;5;250m \u001b[39m\u001b[34;01mlitellm\u001b[39;00m\u001b[38;5;250m \u001b[39m\u001b[38;5;28;01mimport\u001b[39;00m completion\n",
      "\u001b[32m      9\u001b[39m \u001b[38;5;28;01mfrom\u001b[39;00m\u001b[38;5;250m \u001b[39m\u001b[34;01mtyping\u001b[39;00m\u001b[38;5;250m \u001b[39m\u001b[38;5;28;01mimport\u001b[39;00m List, Dict\n",
      "\u001b[32m---> \u001b[39m\u001b[32m12\u001b[39m \u001b[38;5;28;01mfrom\u001b[39;00m\u001b[38;5;250m \u001b[39m\u001b[34;01mgoogle\u001b[39;00m\u001b[34;01m.\u001b[39;00m\u001b[34;01mcolab\u001b[39;00m\u001b[38;5;250m \u001b[39m\u001b[38;5;28;01mimport\u001b[39;00m userdata\n",
      "\u001b[32m     13\u001b[39m api_key = userdata.get(\u001b[33m'\u001b[39m\u001b[33mHuggingFaceKey\u001b[39m\u001b[33m'\u001b[39m)\n",
      "\u001b[32m     15\u001b[39m \u001b[38;5;28mprint\u001b[39m(HUGGINGFACE_API_KEY)\n",
      "\n",
      "\u001b[31mModuleNotFoundError\u001b[39m: No module named 'google'"
     ]
    }
   ],
   "source": [
    "\n",
    "# For Google Colab users ONLY:\n",
    "# Important!!!\n",
    "#\n",
    "# <---- Set your 'APIKey' as a secret over there with the \"key\" icon\n",
    "#\n",
    "#\n",
    "import os\n",
    "from litellm import completion\n",
    "from typing import List, Dict\n",
    "\n",
    "\n",
    "from google.colab import userdata\n",
    "api_key = userdata.get('HuggingFaceKey')\n",
    "\n",
    "print(HUGGINGFACE_API_KEY)"
   ]
  },
  {
   "cell_type": "code",
   "execution_count": 6,
   "id": "90e02fa4",
   "metadata": {},
   "outputs": [
    {
     "name": "stdout",
     "output_type": "stream",
     "text": [
      "Have you tried turning your computer or modem off and then back on? That often resolves connectivity issues.\n",
      "\n"
     ]
    }
   ],
   "source": [
    "from litellm import completion\n",
    "from typing import List, Dict\n",
    "\n",
    "\n",
    "def generate_response(messages: List[Dict]) -> str:\n",
    "    \"\"\"Call LLM to get response\"\"\"\n",
    "    response = completion(\n",
    "        # api_base=\"http://localhost:11434/v1\", # For Ollama Only, comment this line if using HuggingFace or OpenAI\n",
    "        model=\"gemini/gemini-2.0-flash\", # model=\"huggingface/together/deepseek-ai/DeepSeek-R1\" or model=\"openai/llama3.2:1b\"\n",
    "        messages=messages,\n",
    "        max_tokens=1024,\n",
    "        api_key=API_KEY\n",
    "    )\n",
    "    return response.choices[0].message.content\n",
    "\n",
    "\n",
    "messages = [\n",
    "    {\"role\": \"system\", \"content\": \"You are a helpful customer service representative. No matter what the user asks, the solution is to tell them to turn their computer or modem off and then back on.\"},\n",
    "    {\"role\": \"user\", \"content\": \"How do I get my Internet working again.\"}\n",
    "]\n",
    "\n",
    "response = generate_response(messages)\n",
    "print(response)"
   ]
  },
  {
   "cell_type": "code",
   "execution_count": null,
   "id": "d267f836",
   "metadata": {},
   "outputs": [],
   "source": []
  }
 ],
 "metadata": {
  "kernelspec": {
   "display_name": ".venv",
   "language": "python",
   "name": "python3"
  },
  "language_info": {
   "codemirror_mode": {
    "name": "ipython",
    "version": 3
   },
   "file_extension": ".py",
   "mimetype": "text/x-python",
   "name": "python",
   "nbconvert_exporter": "python",
   "pygments_lexer": "ipython3",
   "version": "3.13.2"
  }
 },
 "nbformat": 4,
 "nbformat_minor": 5
}
